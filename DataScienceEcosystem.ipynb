{
 "cells": [
  {
   "cell_type": "markdown",
   "id": "5c93d56e",
   "metadata": {},
   "source": [
    "# Data Science Tools and Ecosystem"
   ]
  },
  {
   "cell_type": "markdown",
   "id": "c96a4b8b",
   "metadata": {},
   "source": [
    "This notebook is about practice and excercise on Data Science Tools and Ecosystem ."
   ]
  },
  {
   "cell_type": "markdown",
   "id": "47b22401",
   "metadata": {},
   "source": [
    "Some of the popular languages that Data Scientists use are:  \n",
    "1. Python\n",
    "2. R\n",
    "3. Julia"
   ]
  },
  {
   "cell_type": "markdown",
   "id": "44428306",
   "metadata": {},
   "source": [
    "Some of the commonly used libraries used by Data Scientists include: \n",
    "1. TensorFlow\n",
    "2. Numpy\n",
    "3. SciPy\n",
    "4. SciKit Learn"
   ]
  },
  {
   "cell_type": "markdown",
   "id": "088db32b",
   "metadata": {},
   "source": [
    "|Data Science Tools|\n",
    "-----------------------------\n",
    "|Jupyter Notebooks|\n",
    "|Zeppelin Notebooks|\n",
    "|R Studio|\n"
   ]
  },
  {
   "cell_type": "markdown",
   "id": "ab2649ba",
   "metadata": {},
   "source": [
    "### Below are a few examples of evaluating arithmetic expressions in Python"
   ]
  },
  {
   "cell_type": "code",
   "execution_count": 4,
   "id": "3db0e110",
   "metadata": {},
   "outputs": [
    {
     "data": {
      "text/plain": [
       "17"
      ]
     },
     "execution_count": 4,
     "metadata": {},
     "output_type": "execute_result"
    }
   ],
   "source": [
    "(3*4)+5"
   ]
  },
  {
   "cell_type": "code",
   "execution_count": 5,
   "id": "9c3d1570",
   "metadata": {},
   "outputs": [
    {
     "data": {
      "text/plain": [
       "3.3333333333333335"
      ]
     },
     "execution_count": 5,
     "metadata": {},
     "output_type": "execute_result"
    }
   ],
   "source": [
    "# This will convert 200 minutes to hours by diving by 60.\n",
    "\n",
    "200/60"
   ]
  },
  {
   "cell_type": "markdown",
   "id": "7bcdd745",
   "metadata": {},
   "source": [
    "**Objectives:** \n",
    "\n",
    "- List popular languages for Data\n",
    "- List of open source tools for data science\n",
    "- Open source Development environment tools\n",
    "- Practice markdowns\n",
    "- How to list items\n",
    "\n"
   ]
  },
  {
   "cell_type": "markdown",
   "id": "6a53c8f8",
   "metadata": {},
   "source": [
    "# Author\n",
    "Seith Akira"
   ]
  },
  {
   "cell_type": "code",
   "execution_count": null,
   "id": "10f855f1",
   "metadata": {},
   "outputs": [],
   "source": []
  }
 ],
 "metadata": {
  "kernelspec": {
   "display_name": "Python 3 (ipykernel)",
   "language": "python",
   "name": "python3"
  },
  "language_info": {
   "codemirror_mode": {
    "name": "ipython",
    "version": 3
   },
   "file_extension": ".py",
   "mimetype": "text/x-python",
   "name": "python",
   "nbconvert_exporter": "python",
   "pygments_lexer": "ipython3",
   "version": "3.10.9"
  }
 },
 "nbformat": 4,
 "nbformat_minor": 5
}
